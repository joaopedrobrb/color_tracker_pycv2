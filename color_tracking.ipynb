{
 "cells": [
  {
   "cell_type": "code",
   "execution_count": 10,
   "metadata": {},
   "outputs": [
    {
     "name": "stdout",
     "output_type": "stream",
     "text": [
      "The percentage of black color in this photo is: 71.80282292557742\n"
     ]
    },
    {
     "data": {
      "text/plain": [
       "-1"
      ]
     },
     "execution_count": 10,
     "metadata": {},
     "output_type": "execute_result"
    }
   ],
   "source": [
    "import pandas as pd\n",
    "import urllib\n",
    "from urllib.error import HTTPError, URLError\n",
    "import numpy as np\n",
    "import glob\n",
    "from os import listdir\n",
    "from os.path import isfile, join\n",
    "import cv2\n",
    "\n",
    "# download the images\n",
    "urls = ['https://i.imgur.com/lBwJKnm.png']          # set the urls to analyse\n",
    "\n",
    "# loop to read multiple images\n",
    "c = 0 # count\n",
    "for i in range(0,len(urls)):\n",
    "    urllib.request.urlretrieve(urls[c], f\"./images_directory/{c}.jpg\")\n",
    "    c += 1\n",
    "\n",
    "# read images on path\n",
    "mypath = \"./images_directory/\"\n",
    "onlyfiles = [f for f in listdir(mypath) if isfile(join(mypath, f))]\n",
    "\n",
    "# color rgb to track\n",
    "black = [15, 15, 15]  # range of rgb scale\n",
    "diff = 15             # tolerance +/-\n",
    "tol = [([black[2]-diff, black[1]-diff, black[0]-diff],          # list with the ranges of colors\n",
    "               [black[2]+diff, black[1]+diff, black[0]+diff])]\n",
    "\n",
    "# using numpy and opencv2\n",
    "c = 0 \n",
    "for i in range(0,len(onlyfiles)):\n",
    "    img = cv2.imread(f'./images_directory/{onlyfiles[c]}')             # read image in the path with opencv2\n",
    "    for (lower, upper) in tol:\n",
    "        lower = np.array(lower, dtype=np.uint8)                                         # inferior limit\n",
    "        upper = np.array(upper, dtype=np.uint8)                                         # superior limit\n",
    "        mask = cv2.inRange(img, lower, upper)                                           # mask with the inferior and superior collors\n",
    "        output = cv2.bitwise_and(img, img, mask=mask)                                   # pixel vs mask: identify and assign number of pixels with black collor (0,1)\n",
    "\n",
    "        ratio_black = cv2.countNonZero(mask)/(img.size/3)                               # percentage of black pixels \n",
    "        result = np.round(ratio_black*100, 2)                                           # final result\n",
    "    c += 1\n",
    "    \n",
    "print(f'The percentage of black color in this photo is: {ratio_black*100}')\n",
    "cv2.imshow('image_result',np.hstack([img,output]))\n",
    "cv2.waitKey(0)\n"
   ]
  }
 ],
 "metadata": {
  "kernelspec": {
   "display_name": "Python 3.10.0 64-bit",
   "language": "python",
   "name": "python3"
  },
  "language_info": {
   "codemirror_mode": {
    "name": "ipython",
    "version": 3
   },
   "file_extension": ".py",
   "mimetype": "text/x-python",
   "name": "python",
   "nbconvert_exporter": "python",
   "pygments_lexer": "ipython3",
   "version": "3.10.0"
  },
  "orig_nbformat": 4,
  "vscode": {
   "interpreter": {
    "hash": "39216e42228a84cf5c4d3ca4bd05763b46e516bef260b53a02fe722c670504d5"
   }
  }
 },
 "nbformat": 4,
 "nbformat_minor": 2
}
